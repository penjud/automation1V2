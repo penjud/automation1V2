{
 "cells": [
  {
   "cell_type": "markdown",
   "metadata": {},
   "source": [
    "AUTOMATION1V2/\n",
    "├── pycache/\n",
    "├── betbot-frontend/\n",
    "│   ├── static/\n",
    "│   │   ├── css/\n",
    "│   │   │   └── style.css\n",
    "│   │   └── js/\n",
    "│   │       ├── api_status.js\n",
    "│   │       ├── funds.js\n",
    "│   │       ├── race-details.js\n",
    "│   │       ├── races.js\n",
    "│   │       ├── saves.js\n",
    "│   │       └── strat_bot.js\n",
    "│   ├── favicon.ico\n",
    "│   ├── index.html\n",
    "│   ├── race-details.html\n",
    "│   └── strategies.html\n",
    "├── certs/\n",
    "├── node/\n",
    "├── .env\n",
    "├── betfair_client.py\n",
    "├── bkstrat.py\n",
    "├── favicon.ico\n",
    "├── main.log\n",
    "├── main.py\n",
    "├── server.log\n",
    "├── server.py\n",
    "└── test.py"
   ]
  }
 ],
 "metadata": {
  "language_info": {
   "name": "python"
  }
 },
 "nbformat": 4,
 "nbformat_minor": 2
}
