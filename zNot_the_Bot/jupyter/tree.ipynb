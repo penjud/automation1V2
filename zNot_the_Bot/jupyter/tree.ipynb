{
 "cells": [
  {
   "cell_type": "markdown",
   "metadata": {},
   "source": [
    "AUTOMATIONV2/\n",
    "│\n",
    "├── pycache/\n",
    "│   ├── betfair_client.cpython-310.pyc\n",
    "│   └── bkstrat.cpython-310.pyc\n",
    "│\n",
    "├── betbot-frontend/ static\n",
    "│   ├── css/\n",
    "│   │   └── style.css\n",
    "│   └── js/\n",
    "│       ├── api_status.js\n",
    "│       ├── funds.js\n",
    "│       ├── race-details.js\n",
    "│       ├── races.js\n",
    "│       ├── saves.js\n",
    "│       └── strat.js\n",
    "│\n",
    "├── old/\n",
    "│   └── favicon.ico\n",
    "│\n",
    "├── .env\n",
    "├── favicon.ico\n",
    "├── index.html\n",
    "├── strategies.html\n",
    "├── certs/\n",
    "├── jupyter/\n",
    "├── node/\n",
    "├── tests/\n",
    "├── betfair_client.py\n",
    "├── bkstrat.py\n",
    "├── favicon.ico\n",
    "├── main.log\n",
    "├── main.py\n",
    "├── server.log\n",
    "├── server.py\n",
    "└── test.py"
   ]
  }
 ],
 "metadata": {
  "language_info": {
   "name": "python"
  }
 },
 "nbformat": 4,
 "nbformat_minor": 2
}
