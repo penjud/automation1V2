{
 "cells": [
  {
   "cell_type": "markdown",
   "metadata": {},
   "source": [
    "tree -I '__pycache__|instance|migrations|node|zNot_the_Bot'"
   ]
  },
  {
   "cell_type": "markdown",
   "metadata": {},
   "source": [
    ".\n",
    "├── alembic\n",
    "│   ├── env.py\n",
    "│   ├── README\n",
    "│   ├── script.py.mako\n",
    "│   └── versions\n",
    "├── alembic.ini\n",
    "├── betbot-frontend\n",
    "│   └── static\n",
    "│       ├── bot.html\n",
    "│       ├── css\n",
    "│       │   └── style.css\n",
    "│       ├── favicon.ico\n",
    "│       ├── index.html\n",
    "│       ├── js\n",
    "│       │   ├── api_status.js\n",
    "│       │   ├── funds.js\n",
    "│       │   ├── login.js\n",
    "│       │   ├── profile.js\n",
    "│       │   ├── race-details.js\n",
    "│       │   ├── races.js\n",
    "│       │   ├── saves.js\n",
    "│       │   └── start_bot.js\n",
    "│       ├── profile.html\n",
    "│       ├── race-details.html\n",
    "│       └── strategies.html\n",
    "├── betfair_client.py\n",
    "├── bkstrat.py\n",
    "├── certs\n",
    "│   ├── client-2048.crt\n",
    "│   ├── client-2048.csr\n",
    "│   └── client-2048.key\n",
    "├── db.py\n",
    "├── extensions.py\n",
    "├── favicon.ico\n",
    "├── flumine_bf_client.py\n",
    "├── main.py\n",
    "├── models.py\n",
    "├── README.md\n",
    "├── server.log\n",
    "└── server.py"
   ]
  }
 ],
 "metadata": {
  "language_info": {
   "name": "python"
  }
 },
 "nbformat": 4,
 "nbformat_minor": 2
}
