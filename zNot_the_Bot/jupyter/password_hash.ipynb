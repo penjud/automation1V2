{
 "cells": [
  {
   "cell_type": "code",
   "execution_count": null,
   "metadata": {},
   "outputs": [],
   "source": [
    "$2a$04$89dvsicAIG6HbPEjqElXie3VMEea7lDPC/rGl1ijD9..3Av5kGnJO"
   ]
  },
  {
   "cell_type": "code",
   "execution_count": 9,
   "metadata": {},
   "outputs": [
    {
     "ename": "ValueError",
     "evalue": "Invalid hash method 'bcrypt'.",
     "output_type": "error",
     "traceback": [
      "\u001b[0;31m---------------------------------------------------------------------------\u001b[0m",
      "\u001b[0;31mValueError\u001b[0m                                Traceback (most recent call last)",
      "Cell \u001b[0;32mIn[9], line 5\u001b[0m\n\u001b[1;32m      3\u001b[0m \u001b[38;5;66;03m# Example password\u001b[39;00m\n\u001b[1;32m      4\u001b[0m password \u001b[38;5;241m=\u001b[39m \u001b[38;5;124m'\u001b[39m\u001b[38;5;124m#18Hoppy70\u001b[39m\u001b[38;5;124m'\u001b[39m\n\u001b[0;32m----> 5\u001b[0m hashed_password \u001b[38;5;241m=\u001b[39m \u001b[43mgenerate_password_hash\u001b[49m\u001b[43m(\u001b[49m\u001b[43mpassword\u001b[49m\u001b[43m,\u001b[49m\u001b[43m \u001b[49m\u001b[43mmethod\u001b[49m\u001b[38;5;241;43m=\u001b[39;49m\u001b[38;5;124;43m'\u001b[39;49m\u001b[38;5;124;43mbcrypt\u001b[39;49m\u001b[38;5;124;43m'\u001b[39;49m\u001b[43m)\u001b[49m\n\u001b[1;32m      6\u001b[0m \u001b[38;5;28mprint\u001b[39m(hashed_password)\n",
      "File \u001b[0;32m~/.local/lib/python3.10/site-packages/werkzeug/security.py:101\u001b[0m, in \u001b[0;36mgenerate_password_hash\u001b[0;34m(password, method, salt_length)\u001b[0m\n\u001b[1;32m     72\u001b[0m \u001b[38;5;250m\u001b[39m\u001b[38;5;124;03m\"\"\"Securely hash a password for storage. A password can be compared to a stored hash\u001b[39;00m\n\u001b[1;32m     73\u001b[0m \u001b[38;5;124;03musing :func:`check_password_hash`.\u001b[39;00m\n\u001b[1;32m     74\u001b[0m \n\u001b[0;32m   (...)\u001b[0m\n\u001b[1;32m     98\u001b[0m \u001b[38;5;124;03m    All plain hashes are deprecated and will not be supported in Werkzeug 3.0.\u001b[39;00m\n\u001b[1;32m     99\u001b[0m \u001b[38;5;124;03m\"\"\"\u001b[39;00m\n\u001b[1;32m    100\u001b[0m salt \u001b[38;5;241m=\u001b[39m gen_salt(salt_length)\n\u001b[0;32m--> 101\u001b[0m h, actual_method \u001b[38;5;241m=\u001b[39m \u001b[43m_hash_internal\u001b[49m\u001b[43m(\u001b[49m\u001b[43mmethod\u001b[49m\u001b[43m,\u001b[49m\u001b[43m \u001b[49m\u001b[43msalt\u001b[49m\u001b[43m,\u001b[49m\u001b[43m \u001b[49m\u001b[43mpassword\u001b[49m\u001b[43m)\u001b[49m\n\u001b[1;32m    102\u001b[0m \u001b[38;5;28;01mreturn\u001b[39;00m \u001b[38;5;124mf\u001b[39m\u001b[38;5;124m\"\u001b[39m\u001b[38;5;132;01m{\u001b[39;00mactual_method\u001b[38;5;132;01m}\u001b[39;00m\u001b[38;5;124m$\u001b[39m\u001b[38;5;132;01m{\u001b[39;00msalt\u001b[38;5;132;01m}\u001b[39;00m\u001b[38;5;124m$\u001b[39m\u001b[38;5;132;01m{\u001b[39;00mh\u001b[38;5;132;01m}\u001b[39;00m\u001b[38;5;124m\"\u001b[39m\n",
      "File \u001b[0;32m~/.local/lib/python3.10/site-packages/werkzeug/security.py:66\u001b[0m, in \u001b[0;36m_hash_internal\u001b[0;34m(method, salt, password)\u001b[0m\n\u001b[1;32m     61\u001b[0m     \u001b[38;5;28;01mreturn\u001b[39;00m (\n\u001b[1;32m     62\u001b[0m         hashlib\u001b[38;5;241m.\u001b[39mpbkdf2_hmac(hash_name, password, salt, iterations)\u001b[38;5;241m.\u001b[39mhex(),\n\u001b[1;32m     63\u001b[0m         \u001b[38;5;124mf\u001b[39m\u001b[38;5;124m\"\u001b[39m\u001b[38;5;124mpbkdf2:\u001b[39m\u001b[38;5;132;01m{\u001b[39;00mhash_name\u001b[38;5;132;01m}\u001b[39;00m\u001b[38;5;124m:\u001b[39m\u001b[38;5;132;01m{\u001b[39;00miterations\u001b[38;5;132;01m}\u001b[39;00m\u001b[38;5;124m\"\u001b[39m,\n\u001b[1;32m     64\u001b[0m     )\n\u001b[1;32m     65\u001b[0m \u001b[38;5;28;01melse\u001b[39;00m:\n\u001b[0;32m---> 66\u001b[0m     \u001b[38;5;28;01mraise\u001b[39;00m \u001b[38;5;167;01mValueError\u001b[39;00m(\u001b[38;5;124mf\u001b[39m\u001b[38;5;124m\"\u001b[39m\u001b[38;5;124mInvalid hash method \u001b[39m\u001b[38;5;124m'\u001b[39m\u001b[38;5;132;01m{\u001b[39;00mmethod\u001b[38;5;132;01m}\u001b[39;00m\u001b[38;5;124m'\u001b[39m\u001b[38;5;124m.\u001b[39m\u001b[38;5;124m\"\u001b[39m)\n",
      "\u001b[0;31mValueError\u001b[0m: Invalid hash method 'bcrypt'."
     ]
    }
   ],
   "source": [
    "from werkzeug.security import generate_password_hash\n",
    "\n",
    "# Example password\n",
    "password = '#18Hoppy70'\n",
    "hashed_password = generate_password_hash(password, method='bcrypt')\n",
    "print(hashed_password)\n"
   ]
  },
  {
   "cell_type": "code",
   "execution_count": null,
   "metadata": {},
   "outputs": [],
   "source": []
  },
  {
   "cell_type": "code",
   "execution_count": null,
   "metadata": {},
   "outputs": [],
   "source": [
    "import bcrypt\n",
    "\n",
    "# The password to hash\n",
    "password = \"#18Hoppy70\"\n",
    "\n",
    "# Encode the password to bytes, then hash it\n",
    "hashed_password = bcrypt.hashpw(password.encode('utf-8'), bcrypt.gensalt())\n",
    "\n",
    "# Decode the hashed password to a utf-8 string (if necessary, for storage or comparison)\n",
    "hashed_password_utf8 = hashed_password.decode('utf-8')\n",
    "\n",
    "print(hashed_password_utf8)\n"
   ]
  },
  {
   "cell_type": "code",
   "execution_count": 1,
   "metadata": {},
   "outputs": [
    {
     "name": "stdout",
     "output_type": "stream",
     "text": [
      "Defaulting to user installation because normal site-packages is not writeable\n",
      "Requirement already satisfied: bcrypt in /usr/lib/python3/dist-packages (3.2.0)\n"
     ]
    }
   ],
   "source": [
    "!pip install bcrypt\n",
    "\n"
   ]
  }
 ],
 "metadata": {
  "kernelspec": {
   "display_name": "Python 3",
   "language": "python",
   "name": "python3"
  },
  "language_info": {
   "codemirror_mode": {
    "name": "ipython",
    "version": 3
   },
   "file_extension": ".py",
   "mimetype": "text/x-python",
   "name": "python",
   "nbconvert_exporter": "python",
   "pygments_lexer": "ipython3",
   "version": "3.10.12"
  }
 },
 "nbformat": 4,
 "nbformat_minor": 2
}
