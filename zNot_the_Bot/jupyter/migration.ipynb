{
 "cells": [
  {
   "cell_type": "markdown",
   "metadata": {},
   "source": []
  },
  {
   "cell_type": "markdown",
   "metadata": {},
   "source": [
    "Step 1: Install Flask-Migrate\n",
    "If you haven't already installed Flask-Migrate, you can do so using pip:\n",
    "\n",
    "bash\n",
    "Copy code\n",
    "pip install Flask-Migrate\n",
    "Step 2: Integrate Flask-Migrate into Your Application\n",
    "In your main application file (often app.py or server.py), you need to import and initialize Flask-Migrate:\n",
    "\n",
    "python\n",
    "Copy code\n",
    "# server.py or app.py\n",
    "\n",
    "from flask import Flask\n",
    "from flask_sqlalchemy import SQLAlchemy\n",
    "from flask_migrate import Migrate\n",
    "\n",
    "app = Flask(__name__)\n",
    "app.config['SQLALCHEMY_DATABASE_URI'] = 'your_database_uri_here'\n",
    "db = SQLAlchemy(app)\n",
    "\n",
    "migrate = Migrate(app, db)\n",
    "\n",
    "# your models and routes go here\n",
    "Step 3: Create and Customize Your Models\n",
    "Ensure your models are defined in a file (commonly models.py) and imported into your main application file, so Flask-Migrate can detect them. Here is an example of a User model with a created_at column:\n",
    "\n",
    "python\n",
    "Copy code\n",
    "# models.py\n",
    "\n",
    "from datetime import datetime\n",
    "from server import db  # Import the SQLAlchemy instance\n",
    "\n",
    "class User(db.Model):\n",
    "    id = db.Column(db.Integer, primary_key=True)\n",
    "    username = db.Column(db.String(128), unique=True, nullable=False)\n",
    "    created_at = db.Column(db.DateTime, default=datetime.utcnow)\n",
    "Step 4: Generate Migration Script\n",
    "Run the following commands in your terminal to generate an initial migration. Make sure you are in the root directory of your Flask application where server.py or app.py is located.\n",
    "\n",
    "bash\n",
    "Copy code\n",
    "flask db init  # Only needed the first time to set up migration directories\n",
    "flask db migrate -m \"Initial migration.\"\n",
    "This will create a new migration script in the migrations/versions/ directory. Check this script to ensure it includes the created_at column for the users table.\n",
    "\n",
    "Step 5: Apply the Migration\n",
    "To apply the migration to your database, run:\n",
    "\n",
    "bash\n",
    "Copy code\n",
    "flask db upgrade\n",
    "This command will apply the migration script to your database, creating or altering tables as needed."
   ]
  }
 ],
 "metadata": {
  "language_info": {
   "name": "python"
  }
 },
 "nbformat": 4,
 "nbformat_minor": 2
}
